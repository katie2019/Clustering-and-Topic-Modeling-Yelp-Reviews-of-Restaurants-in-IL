{
 "cells": [
  {
   "cell_type": "markdown",
   "metadata": {},
   "source": [
    "# Project 4 Clustering and Topic Modeling Yelp Reviews of Restaurants in IL\n",
    "# Data Cleaning\n",
    "## Katie Fan"
   ]
  },
  {
   "cell_type": "code",
   "execution_count": null,
   "metadata": {},
   "outputs": [],
   "source": [
    "from pymongo import MongoClient\n",
    "from pprint import pprint\n",
    "import pandas as pd\n",
    "import matplotlib.pyplot as plt\n",
    "%matplotlib inline\n",
    "import seaborn as sns"
   ]
  },
  {
   "cell_type": "code",
   "execution_count": null,
   "metadata": {},
   "outputs": [],
   "source": [
    "# Data is downloaded from https://www.yelp.com/dataset/challenge\n",
    "# import data into MongoDB\n",
    "# terminal code\n",
    "# mongoimport --db yelp --collection reviews --file /Users/katiefan/Downloads/yelp_dataset/review.json\n",
    "# mongoimport --db yelp --collection business --file /Users/katiefan/Downloads/yelp_dataset/business.json"
   ]
  },
  {
   "cell_type": "code",
   "execution_count": 2,
   "metadata": {},
   "outputs": [],
   "source": [
    "# create a client that uses the default port on localhost\n",
    "client = MongoClient()"
   ]
  },
  {
   "cell_type": "code",
   "execution_count": 3,
   "metadata": {},
   "outputs": [],
   "source": [
    "db = client.yelp"
   ]
  },
  {
   "cell_type": "code",
   "execution_count": 4,
   "metadata": {},
   "outputs": [
    {
     "data": {
      "text/plain": [
       "['business', 'reviews']"
      ]
     },
     "execution_count": 4,
     "metadata": {},
     "output_type": "execute_result"
    }
   ],
   "source": [
    "# list collection names under yelp database\n",
    "db.list_collection_names()"
   ]
  },
  {
   "cell_type": "code",
   "execution_count": 35,
   "metadata": {},
   "outputs": [
    {
     "name": "stdout",
     "output_type": "stream",
     "text": [
      "(1932, 7)\n"
     ]
    },
    {
     "data": {
      "text/html": [
       "<div>\n",
       "<style scoped>\n",
       "    .dataframe tbody tr th:only-of-type {\n",
       "        vertical-align: middle;\n",
       "    }\n",
       "\n",
       "    .dataframe tbody tr th {\n",
       "        vertical-align: top;\n",
       "    }\n",
       "\n",
       "    .dataframe thead th {\n",
       "        text-align: right;\n",
       "    }\n",
       "</style>\n",
       "<table border=\"1\" class=\"dataframe\">\n",
       "  <thead>\n",
       "    <tr style=\"text-align: right;\">\n",
       "      <th></th>\n",
       "      <th>business_id</th>\n",
       "      <th>name</th>\n",
       "      <th>city</th>\n",
       "      <th>stars</th>\n",
       "      <th>review_count</th>\n",
       "      <th>categories</th>\n",
       "      <th>is_open</th>\n",
       "    </tr>\n",
       "  </thead>\n",
       "  <tbody>\n",
       "    <tr>\n",
       "      <th>0</th>\n",
       "      <td>tsXCDIijxbgsh980VgRc9g</td>\n",
       "      <td>Federal Companies</td>\n",
       "      <td>Champaign</td>\n",
       "      <td>3.0</td>\n",
       "      <td>11</td>\n",
       "      <td>Movers, Local Services, Self Storage, Home Ser...</td>\n",
       "      <td>1</td>\n",
       "    </tr>\n",
       "    <tr>\n",
       "      <th>1</th>\n",
       "      <td>fsklFcY47qJIr0mjgobuUg</td>\n",
       "      <td>Ford City</td>\n",
       "      <td>Champaign</td>\n",
       "      <td>2.5</td>\n",
       "      <td>3</td>\n",
       "      <td>Car Dealers, Auto Repair, Auto Parts &amp; Supplie...</td>\n",
       "      <td>0</td>\n",
       "    </tr>\n",
       "    <tr>\n",
       "      <th>2</th>\n",
       "      <td>mofOjB6flg-eAWOFbOkHfQ</td>\n",
       "      <td>ChinaTown Buffet</td>\n",
       "      <td>Champaign</td>\n",
       "      <td>2.5</td>\n",
       "      <td>72</td>\n",
       "      <td>Sushi Bars, Buffets, Restaurants, Chinese</td>\n",
       "      <td>1</td>\n",
       "    </tr>\n",
       "    <tr>\n",
       "      <th>3</th>\n",
       "      <td>P4HqDYI1icascvcwca7iLg</td>\n",
       "      <td>Macy's</td>\n",
       "      <td>Champaign</td>\n",
       "      <td>2.5</td>\n",
       "      <td>12</td>\n",
       "      <td>Men's Clothing, Shopping, Department Stores, F...</td>\n",
       "      <td>1</td>\n",
       "    </tr>\n",
       "    <tr>\n",
       "      <th>4</th>\n",
       "      <td>eezVjNlzIZrXs9GM5O8b2w</td>\n",
       "      <td>Vape Vault</td>\n",
       "      <td>Champaign</td>\n",
       "      <td>4.0</td>\n",
       "      <td>5</td>\n",
       "      <td>Shopping, Vape Shops</td>\n",
       "      <td>1</td>\n",
       "    </tr>\n",
       "  </tbody>\n",
       "</table>\n",
       "</div>"
      ],
      "text/plain": [
       "              business_id               name       city  stars  review_count  \\\n",
       "0  tsXCDIijxbgsh980VgRc9g  Federal Companies  Champaign    3.0            11   \n",
       "1  fsklFcY47qJIr0mjgobuUg          Ford City  Champaign    2.5             3   \n",
       "2  mofOjB6flg-eAWOFbOkHfQ   ChinaTown Buffet  Champaign    2.5            72   \n",
       "3  P4HqDYI1icascvcwca7iLg             Macy's  Champaign    2.5            12   \n",
       "4  eezVjNlzIZrXs9GM5O8b2w         Vape Vault  Champaign    4.0             5   \n",
       "\n",
       "                                          categories  is_open  \n",
       "0  Movers, Local Services, Self Storage, Home Ser...        1  \n",
       "1  Car Dealers, Auto Repair, Auto Parts & Supplie...        0  \n",
       "2          Sushi Bars, Buffets, Restaurants, Chinese        1  \n",
       "3  Men's Clothing, Shopping, Department Stores, F...        1  \n",
       "4                               Shopping, Vape Shops        1  "
      ]
     },
     "execution_count": 35,
     "metadata": {},
     "output_type": "execute_result"
    }
   ],
   "source": [
    "# load business data for IL business ids into a data frame\n",
    "il_business_id = []\n",
    "il_name = []\n",
    "il_city = []\n",
    "il_categories = []\n",
    "il_review_count = []\n",
    "il_stars = []\n",
    "il_is_open = []\n",
    "for i in db.business.find({'state':'IL'}, {'business_id':1, 'name':1, 'stars':1,\n",
    "                                          'city':1, 'categories':1, 'review_count':1, 'is_open':1, '_id':0}):\n",
    "    il_business_id.append(i['business_id'])\n",
    "    il_name.append(i['name'])\n",
    "    il_city.append(i['city'])\n",
    "    il_categories.append(i['categories'])\n",
    "    il_review_count.append(i['review_count'])\n",
    "    il_stars.append(i['stars'])\n",
    "    il_is_open.append(i['is_open'])\n",
    "\n",
    "il_dict = {'business_id':il_business_id, 'name':il_name, 'city':il_city, 'categories':il_categories, \n",
    "           'review_count':il_review_count, 'stars':il_stars, 'is_open':il_is_open}\n",
    "business_il_df = pd.DataFrame(data=il_dict, columns=['business_id', 'name', 'city', 'stars', 'review_count', 'categories', 'is_open'])\n",
    "print(business_il_df.shape)\n",
    "business_il_df.head()"
   ]
  },
  {
   "cell_type": "code",
   "execution_count": 88,
   "metadata": {},
   "outputs": [],
   "source": [
    "# create a list of business ids in IL\n",
    "id_list = business_il_df.business_id.tolist()"
   ]
  },
  {
   "cell_type": "code",
   "execution_count": 52,
   "metadata": {},
   "outputs": [
    {
     "data": {
      "text/html": [
       "<div>\n",
       "<style scoped>\n",
       "    .dataframe tbody tr th:only-of-type {\n",
       "        vertical-align: middle;\n",
       "    }\n",
       "\n",
       "    .dataframe tbody tr th {\n",
       "        vertical-align: top;\n",
       "    }\n",
       "\n",
       "    .dataframe thead th {\n",
       "        text-align: right;\n",
       "    }\n",
       "</style>\n",
       "<table border=\"1\" class=\"dataframe\">\n",
       "  <thead>\n",
       "    <tr style=\"text-align: right;\">\n",
       "      <th></th>\n",
       "      <th>_id</th>\n",
       "      <th>business_id</th>\n",
       "      <th>stars</th>\n",
       "      <th>text</th>\n",
       "    </tr>\n",
       "  </thead>\n",
       "  <tbody>\n",
       "    <tr>\n",
       "      <th>0</th>\n",
       "      <td>5cdc66e40028847c6f0e74c6</td>\n",
       "      <td>E9HN0nA8eRsIBZYkL0H3xA</td>\n",
       "      <td>4.0</td>\n",
       "      <td>I got stuck in Myrtle Beach last week and stay...</td>\n",
       "    </tr>\n",
       "    <tr>\n",
       "      <th>1</th>\n",
       "      <td>5cdc66e40028847c6f0e7511</td>\n",
       "      <td>LW21U6m6axC2lCLYc0fFSA</td>\n",
       "      <td>4.0</td>\n",
       "      <td>Their red velvet cupcakes are AMAZING! Their b...</td>\n",
       "    </tr>\n",
       "    <tr>\n",
       "      <th>2</th>\n",
       "      <td>5cdc66e40028847c6f0e756b</td>\n",
       "      <td>w2xwgqHM7dJlHfyu4ouhBg</td>\n",
       "      <td>5.0</td>\n",
       "      <td>Azzip Pizza is literally SO good. I have been ...</td>\n",
       "    </tr>\n",
       "    <tr>\n",
       "      <th>3</th>\n",
       "      <td>5cdc66e40028847c6f0e75f3</td>\n",
       "      <td>E4t43bnsfeOY2bv_8IPmSw</td>\n",
       "      <td>4.0</td>\n",
       "      <td>Great-tasting deep dish pizzas.  They make a m...</td>\n",
       "    </tr>\n",
       "    <tr>\n",
       "      <th>4</th>\n",
       "      <td>5cdc66e40028847c6f0e76d0</td>\n",
       "      <td>i9M6oO2LMUrrEytHnHjyLA</td>\n",
       "      <td>4.0</td>\n",
       "      <td>I will say that the unsalted edemame was not e...</td>\n",
       "    </tr>\n",
       "  </tbody>\n",
       "</table>\n",
       "</div>"
      ],
      "text/plain": [
       "                        _id             business_id  stars  \\\n",
       "0  5cdc66e40028847c6f0e74c6  E9HN0nA8eRsIBZYkL0H3xA    4.0   \n",
       "1  5cdc66e40028847c6f0e7511  LW21U6m6axC2lCLYc0fFSA    4.0   \n",
       "2  5cdc66e40028847c6f0e756b  w2xwgqHM7dJlHfyu4ouhBg    5.0   \n",
       "3  5cdc66e40028847c6f0e75f3  E4t43bnsfeOY2bv_8IPmSw    4.0   \n",
       "4  5cdc66e40028847c6f0e76d0  i9M6oO2LMUrrEytHnHjyLA    4.0   \n",
       "\n",
       "                                                text  \n",
       "0  I got stuck in Myrtle Beach last week and stay...  \n",
       "1  Their red velvet cupcakes are AMAZING! Their b...  \n",
       "2  Azzip Pizza is literally SO good. I have been ...  \n",
       "3  Great-tasting deep dish pizzas.  They make a m...  \n",
       "4  I will say that the unsalted edemame was not e...  "
      ]
     },
     "execution_count": 52,
     "metadata": {},
     "output_type": "execute_result"
    }
   ],
   "source": [
    "# load all reviews of IL businesses ids into a dataframe\n",
    "reviews_il = list(db.reviews.find({'business_id': {'$in': id_list }}, {'business_id': 1, 'text': 1, 'stars': 1}))\n",
    "reviews_il_df = pd.DataFrame(reviews_il)\n",
    "reviews_il_df.head()"
   ]
  },
  {
   "cell_type": "code",
   "execution_count": 53,
   "metadata": {},
   "outputs": [
    {
     "data": {
      "text/plain": [
       "(42371, 4)"
      ]
     },
     "execution_count": 53,
     "metadata": {},
     "output_type": "execute_result"
    }
   ],
   "source": [
    "# get shape of dataset reviews_il_df\n",
    "reviews_il_df.shape"
   ]
  },
  {
   "cell_type": "code",
   "execution_count": 54,
   "metadata": {},
   "outputs": [
    {
     "data": {
      "text/plain": [
       "(42371, 10)"
      ]
     },
     "execution_count": 54,
     "metadata": {},
     "output_type": "execute_result"
    }
   ],
   "source": [
    "# merge reviews_il_df with business_il_df \n",
    "df_il = reviews_il_df.merge(business_il_df, how='inner', on='business_id')\n",
    "df_il.shape"
   ]
  },
  {
   "cell_type": "code",
   "execution_count": 55,
   "metadata": {},
   "outputs": [
    {
     "data": {
      "text/html": [
       "<div>\n",
       "<style scoped>\n",
       "    .dataframe tbody tr th:only-of-type {\n",
       "        vertical-align: middle;\n",
       "    }\n",
       "\n",
       "    .dataframe tbody tr th {\n",
       "        vertical-align: top;\n",
       "    }\n",
       "\n",
       "    .dataframe thead th {\n",
       "        text-align: right;\n",
       "    }\n",
       "</style>\n",
       "<table border=\"1\" class=\"dataframe\">\n",
       "  <thead>\n",
       "    <tr style=\"text-align: right;\">\n",
       "      <th></th>\n",
       "      <th>_id</th>\n",
       "      <th>business_id</th>\n",
       "      <th>stars_x</th>\n",
       "      <th>text</th>\n",
       "      <th>name</th>\n",
       "      <th>city</th>\n",
       "      <th>stars_y</th>\n",
       "      <th>review_count</th>\n",
       "      <th>categories</th>\n",
       "      <th>is_open</th>\n",
       "    </tr>\n",
       "  </thead>\n",
       "  <tbody>\n",
       "    <tr>\n",
       "      <th>0</th>\n",
       "      <td>5cdc66e40028847c6f0e74c6</td>\n",
       "      <td>E9HN0nA8eRsIBZYkL0H3xA</td>\n",
       "      <td>4.0</td>\n",
       "      <td>I got stuck in Myrtle Beach last week and stay...</td>\n",
       "      <td>Courtyard by Marriott Champaign</td>\n",
       "      <td>Champaign</td>\n",
       "      <td>3.0</td>\n",
       "      <td>21</td>\n",
       "      <td>Hotels &amp; Travel, Event Planning &amp; Services, Ho...</td>\n",
       "      <td>1</td>\n",
       "    </tr>\n",
       "    <tr>\n",
       "      <th>1</th>\n",
       "      <td>5cdc66e50028847c6f0f04a9</td>\n",
       "      <td>E9HN0nA8eRsIBZYkL0H3xA</td>\n",
       "      <td>1.0</td>\n",
       "      <td>Unfortunately, I have to agree with the other ...</td>\n",
       "      <td>Courtyard by Marriott Champaign</td>\n",
       "      <td>Champaign</td>\n",
       "      <td>3.0</td>\n",
       "      <td>21</td>\n",
       "      <td>Hotels &amp; Travel, Event Planning &amp; Services, Ho...</td>\n",
       "      <td>1</td>\n",
       "    </tr>\n",
       "    <tr>\n",
       "      <th>2</th>\n",
       "      <td>5cdc66e50028847c6f0f6d2e</td>\n",
       "      <td>E9HN0nA8eRsIBZYkL0H3xA</td>\n",
       "      <td>5.0</td>\n",
       "      <td>Can't go wrong with 24 hour Starbuck's service...</td>\n",
       "      <td>Courtyard by Marriott Champaign</td>\n",
       "      <td>Champaign</td>\n",
       "      <td>3.0</td>\n",
       "      <td>21</td>\n",
       "      <td>Hotels &amp; Travel, Event Planning &amp; Services, Ho...</td>\n",
       "      <td>1</td>\n",
       "    </tr>\n",
       "    <tr>\n",
       "      <th>3</th>\n",
       "      <td>5cdc66e60028847c6f0fc2a1</td>\n",
       "      <td>E9HN0nA8eRsIBZYkL0H3xA</td>\n",
       "      <td>2.0</td>\n",
       "      <td>I expected much more than what I received here...</td>\n",
       "      <td>Courtyard by Marriott Champaign</td>\n",
       "      <td>Champaign</td>\n",
       "      <td>3.0</td>\n",
       "      <td>21</td>\n",
       "      <td>Hotels &amp; Travel, Event Planning &amp; Services, Ho...</td>\n",
       "      <td>1</td>\n",
       "    </tr>\n",
       "    <tr>\n",
       "      <th>4</th>\n",
       "      <td>5cdc66e70028847c6f107573</td>\n",
       "      <td>E9HN0nA8eRsIBZYkL0H3xA</td>\n",
       "      <td>3.0</td>\n",
       "      <td>This Courtyard is pretty on par with the other...</td>\n",
       "      <td>Courtyard by Marriott Champaign</td>\n",
       "      <td>Champaign</td>\n",
       "      <td>3.0</td>\n",
       "      <td>21</td>\n",
       "      <td>Hotels &amp; Travel, Event Planning &amp; Services, Ho...</td>\n",
       "      <td>1</td>\n",
       "    </tr>\n",
       "  </tbody>\n",
       "</table>\n",
       "</div>"
      ],
      "text/plain": [
       "                        _id             business_id  stars_x  \\\n",
       "0  5cdc66e40028847c6f0e74c6  E9HN0nA8eRsIBZYkL0H3xA      4.0   \n",
       "1  5cdc66e50028847c6f0f04a9  E9HN0nA8eRsIBZYkL0H3xA      1.0   \n",
       "2  5cdc66e50028847c6f0f6d2e  E9HN0nA8eRsIBZYkL0H3xA      5.0   \n",
       "3  5cdc66e60028847c6f0fc2a1  E9HN0nA8eRsIBZYkL0H3xA      2.0   \n",
       "4  5cdc66e70028847c6f107573  E9HN0nA8eRsIBZYkL0H3xA      3.0   \n",
       "\n",
       "                                                text  \\\n",
       "0  I got stuck in Myrtle Beach last week and stay...   \n",
       "1  Unfortunately, I have to agree with the other ...   \n",
       "2  Can't go wrong with 24 hour Starbuck's service...   \n",
       "3  I expected much more than what I received here...   \n",
       "4  This Courtyard is pretty on par with the other...   \n",
       "\n",
       "                              name       city  stars_y  review_count  \\\n",
       "0  Courtyard by Marriott Champaign  Champaign      3.0            21   \n",
       "1  Courtyard by Marriott Champaign  Champaign      3.0            21   \n",
       "2  Courtyard by Marriott Champaign  Champaign      3.0            21   \n",
       "3  Courtyard by Marriott Champaign  Champaign      3.0            21   \n",
       "4  Courtyard by Marriott Champaign  Champaign      3.0            21   \n",
       "\n",
       "                                          categories  is_open  \n",
       "0  Hotels & Travel, Event Planning & Services, Ho...        1  \n",
       "1  Hotels & Travel, Event Planning & Services, Ho...        1  \n",
       "2  Hotels & Travel, Event Planning & Services, Ho...        1  \n",
       "3  Hotels & Travel, Event Planning & Services, Ho...        1  \n",
       "4  Hotels & Travel, Event Planning & Services, Ho...        1  "
      ]
     },
     "execution_count": 55,
     "metadata": {},
     "output_type": "execute_result"
    }
   ],
   "source": [
    "df_il.head()"
   ]
  },
  {
   "cell_type": "code",
   "execution_count": 56,
   "metadata": {},
   "outputs": [
    {
     "data": {
      "text/plain": [
       "(29354, 10)"
      ]
     },
     "execution_count": 56,
     "metadata": {},
     "output_type": "execute_result"
    }
   ],
   "source": [
    "# define the analysis to restaurants only\n",
    "df_il = df_il[df_il['categories'].notnull()]\n",
    "df = df_il[df_il['categories'].str.contains('Restaurants| Food | Bars')]\n",
    "df.shape"
   ]
  },
  {
   "cell_type": "code",
   "execution_count": 57,
   "metadata": {},
   "outputs": [
    {
     "data": {
      "text/plain": [
       "(24150, 10)"
      ]
     },
     "execution_count": 57,
     "metadata": {},
     "output_type": "execute_result"
    }
   ],
   "source": [
    "# analysis focuses on open restaurants only\n",
    "df = df[df_rest.is_open == 1]\n",
    "df.shape"
   ]
  },
  {
   "cell_type": "code",
   "execution_count": 79,
   "metadata": {},
   "outputs": [],
   "source": [
    "# analysis focuses on restaurants having more than 20 reviews\n",
    "df = df[df.review_count>20]"
   ]
  },
  {
   "cell_type": "code",
   "execution_count": 80,
   "metadata": {},
   "outputs": [],
   "source": [
    "# create a column 'review_length'\n",
    "df['review_length'] = df['text'].apply(len)"
   ]
  },
  {
   "cell_type": "code",
   "execution_count": 81,
   "metadata": {},
   "outputs": [
    {
     "data": {
      "text/plain": [
       "_id              0\n",
       "business_id      0\n",
       "stars_x          0\n",
       "text             0\n",
       "name             0\n",
       "city             0\n",
       "stars_y          0\n",
       "review_count     0\n",
       "categories       0\n",
       "is_open          0\n",
       "review_length    0\n",
       "dtype: int64"
      ]
     },
     "execution_count": 81,
     "metadata": {},
     "output_type": "execute_result"
    }
   ],
   "source": [
    "# check for missing values\n",
    "df.isnull().sum()"
   ]
  },
  {
   "cell_type": "code",
   "execution_count": 82,
   "metadata": {},
   "outputs": [
    {
     "data": {
      "image/png": "[encoded data removed]",
      "text/plain": [
       "<Figure size 576x432 with 1 Axes>"
      ]
     },
     "metadata": {
      "needs_background": "light"
     },
     "output_type": "display_data"
    }
   ],
   "source": [
    "# plot of cities with most restaurants in IL\n",
    "plt.figure(figsize=(8,6))\n",
    "df.city.value_counts().plot(kind='bar', title='Cities with Most Restaurants in IL')\n",
    "sns.despine()\n",
    "plt.savefig('prj4_city.png', dpi=200);"
   ]
  },
  {
   "cell_type": "code",
   "execution_count": 83,
   "metadata": {},
   "outputs": [
    {
     "data": {
      "image/png": "[encoded data removed]",
      "text/plain": [
       "<Figure size 576x432 with 1 Axes>"
      ]
     },
     "metadata": {
      "needs_background": "light"
     },
     "output_type": "display_data"
    }
   ],
   "source": [
    "# plot of star ratings\n",
    "plt.figure(figsize=(8,6))\n",
    "df.stars_x.value_counts().plot(kind='bar', title='Star Ratings')\n",
    "plt.xlabel('star')\n",
    "sns.despine()\n",
    "plt.savefig('prj4_stars.png', dpi=200);"
   ]
  },
  {
   "cell_type": "code",
   "execution_count": 84,
   "metadata": {},
   "outputs": [
    {
     "data": {
      "image/png": "[encoded data removed]",
      "text/plain": [
       "<Figure size 720x432 with 1 Axes>"
      ]
     },
     "metadata": {
      "needs_background": "light"
     },
     "output_type": "display_data"
    }
   ],
   "source": [
    "# histgram of review_count\n",
    "plt.figure(figsize=(10,6))\n",
    "df.review_count.hist(bins=20)\n",
    "plt.title('Review Count')\n",
    "plt.xlabel('review')\n",
    "sns.despine();"
   ]
  },
  {
   "cell_type": "code",
   "execution_count": 85,
   "metadata": {},
   "outputs": [
    {
     "data": {
      "image/png": "[encoded data removed]",
      "text/plain": [
       "<Figure size 720x432 with 1 Axes>"
      ]
     },
     "metadata": {
      "needs_background": "light"
     },
     "output_type": "display_data"
    }
   ],
   "source": [
    "# histgram of review_length\n",
    "plt.figure(figsize=(10,6))\n",
    "df.review_length.hist(bins=20)\n",
    "plt.title('Review length')\n",
    "plt.xlabel('review length')\n",
    "sns.despine();"
   ]
  },
  {
   "cell_type": "code",
   "execution_count": 86,
   "metadata": {},
   "outputs": [],
   "source": [
    "# pickle the dataset\n",
    "df.to_pickle('/Users/katiefan/Documents/projects/project-4/prj4-df-clean')"
   ]
  }
 ],
 "metadata": {
  "kernelspec": {
   "display_name": "Python 3",
   "language": "python",
   "name": "python3"
  },
  "language_info": {
   "codemirror_mode": {
    "name": "ipython",
    "version": 3
   },
   "file_extension": ".py",
   "mimetype": "text/x-python",
   "name": "python",
   "nbconvert_exporter": "python",
   "pygments_lexer": "ipython3",
   "version": "3.7.1"
  }
 },
 "nbformat": 4,
 "nbformat_minor": 2
}
